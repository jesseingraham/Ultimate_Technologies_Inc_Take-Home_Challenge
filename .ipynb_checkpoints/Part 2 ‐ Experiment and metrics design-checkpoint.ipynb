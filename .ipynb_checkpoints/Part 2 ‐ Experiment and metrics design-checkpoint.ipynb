{
 "cells": [
  {
   "cell_type": "markdown",
   "id": "6d013b07",
   "metadata": {},
   "source": [
    "# Problem Statement:\n",
    "The neighboring cities of Gotham and Metropolis have complementary circadian rhythms: on weekdays, Ultimate Gotham is most active at night, and Ultimate Metropolis is most active during the day. On weekends, there is reasonable activity in both cities. However, a toll bridge, with a two way toll, between the two cities causes driver partners to tend to be exclusive to each city. The Ultimate managers of city operations for the two cities have proposed an experiment to encourage driver partners to be available in both cities, by reimbursing all toll costs.\n",
    "1) What would you choose as the key measure of success of this experiment in encouraging driver partners to serve both cities, and why would you choose this metric?\n",
    "2) Describe a practical experiment you would design to compare the effectiveness of the proposed change in relation to the key measure of success. Please provide details on:\n",
    "    \n",
    "    a) how you will implement the experiment\n",
    "    \n",
    "    b) what statistical test(s) you will conduct to verify the significance of the observation\n",
    "    \n",
    "    c) how you would interpret the results and provide recommendations to the city operations team along with any caveats.\n",
    "\n",
    "Note: The two cities of Gotham and Metropolis are not in the provided dataset; however, you do\n",
    "not need this information to answer Part 2.\n"
   ]
  },
  {
   "cell_type": "markdown",
   "id": "d995fac1",
   "metadata": {},
   "source": [
    "# Solution\n",
    "1. Since driver partners would be reimbursed all toll costs during this experiment, then the Ultimate Gotham and Metropolis city managers must be aware of which toll costs belong to the driver partners. Therefore, I would choose the key measure of success for this experiment to be increased toll costs belonging to driver partners only, since they are the target audience.\n",
    "\n",
    "2. Here's my experiment: using historical bridge toll data, analyze the distribution of a normal day's (ignoring holidays and other irregularly high traffic days) toll costs belonging to the driver partners and compare the statistical significance of the new toll costs belonging to the driver partners. The null hypothesis would be that the toll sales before and after the experiment, belonging to the driver partners, would be the same. After recording a new day's toll bridge usage by the driver partners, I would test for statistical significance of the new day's toll costs by checking to see if they were outside the historical day's 95% confidence interval by doing a 1-tailed test. A 1-tailed test is being chosen, rather than a 2-tailed test because the city managers are interested in increasing toll bridge usage by the driver partners, not decreasing. If the p-value is greater than 0.95, then the null hypothesis would be rejected, and statistical significance of the new day's toll costs would be declared, meaning the experiment was successful in encouraging the driver partners to be available in both cities.\n",
    "\n",
    "    This experiment has the caveat that the toll bridge records the source of the toll cost being from a driver partner or not. If this information is unavailable, and only a day's total toll costs were recorded, then the experiment could still be utilized, but instead of looking for an increase in toll sales, we would look for a decrease in toll sales, assuming that the non-driver partner toll costs would remain the same and the decrease in toll sales would therefore be attributed to the increase in driver partner traffic that got reimbursed."
   ]
  },
  {
   "cell_type": "code",
   "execution_count": null,
   "id": "fcf7b766",
   "metadata": {},
   "outputs": [],
   "source": []
  }
 ],
 "metadata": {
  "kernelspec": {
   "display_name": "Python 3 (ipykernel)",
   "language": "python",
   "name": "python3"
  },
  "language_info": {
   "codemirror_mode": {
    "name": "ipython",
    "version": 3
   },
   "file_extension": ".py",
   "mimetype": "text/x-python",
   "name": "python",
   "nbconvert_exporter": "python",
   "pygments_lexer": "ipython3",
   "version": "3.11.3"
  }
 },
 "nbformat": 4,
 "nbformat_minor": 5
}

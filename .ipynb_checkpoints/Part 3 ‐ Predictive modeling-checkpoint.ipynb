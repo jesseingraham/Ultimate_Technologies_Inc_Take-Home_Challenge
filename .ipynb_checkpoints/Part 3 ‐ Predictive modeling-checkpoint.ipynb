{
 "cells": [
  {
   "cell_type": "markdown",
   "id": "a564d1ca",
   "metadata": {},
   "source": [
    "# Problem Statement\n",
    "Ultimate is interested in predicting rider retention. To help explore this question, we have\n",
    "provided a sample dataset of a cohort of users who signed up for an Ultimate account in\n",
    "January 2014. The data was pulled several months later; we consider a user retained if they\n",
    "were “active” (i.e. took a trip) in the preceding 30 days.\n",
    "\n",
    "We would like you to use this data set to help understand what factors are the best predictors\n",
    "for retention, and offer suggestions to operationalize those insights to help Ultimate.\n",
    "\n",
    "The data is in the attached file ultimate_data_challenge.json. See below for a detailed\n",
    "description of the dataset. Please include any code you wrote for the analysis and delete the\n",
    "dataset when you have finished with the challenge.\n",
    "1. Perform any cleaning, exploratory analysis, and/or visualizations to use the provided\n",
    "data for this analysis (a few sentences/plots describing your approach will suffice). What\n",
    "fraction of the observed users were retained?\n",
    "2. Build a predictive model to help Ultimate determine whether or not a user will be active in\n",
    "their 6th month on the system. Discuss why you chose your approach, what alternatives\n",
    "you considered, and any concerns you have. How valid is your model? Include any key\n",
    "indicators of model performance.\n",
    "3. Briefly discuss how Ultimate might leverage the insights gained from the model to\n",
    "improve its long term rider retention (again, a few sentences will suffice)."
   ]
  },
  {
   "cell_type": "markdown",
   "id": "50c06e6d",
   "metadata": {},
   "source": [
    "## Data description\n",
    "1. **city**: city this user signed up in\n",
    "2. **phone**: primary device for this user\n",
    "3. **signup_date**: date of account registration; in the form ‘YYYYMMDD’\n",
    "4. **last_trip_date**: the last time this user completed a trip; in the form ‘YYYYMMDD’\n",
    "5. **avg_dist**: the average distance in miles per trip taken in the first 30 days after signup\n",
    "6. **avg_rating_by_driver**: the rider’s average rating over all of their trips\n",
    "7. **avg_rating_of_driver**: the rider’s average rating of their drivers over all of their trips\n",
    "8. **surge_pct**: the percent of trips taken with surge multiplier > 1\n",
    "9. **avg_surge**: The average surge multiplier over all of this user’s trips\n",
    "10. **trips_in_first_30_days**: the number of trips this user took in the first 30 days after signing up\n",
    "11. **ultimate_black_user**: TRUE if the user took an Ultimate Black in their first 30 days; FALSE otherwise\n",
    "12. **weekday_pct**: the percent of the user’s trips occurring during a weekday"
   ]
  },
  {
   "cell_type": "code",
   "execution_count": null,
   "id": "98c23eb9",
   "metadata": {},
   "outputs": [],
   "source": []
  }
 ],
 "metadata": {
  "kernelspec": {
   "display_name": "Python 3 (ipykernel)",
   "language": "python",
   "name": "python3"
  },
  "language_info": {
   "codemirror_mode": {
    "name": "ipython",
    "version": 3
   },
   "file_extension": ".py",
   "mimetype": "text/x-python",
   "name": "python",
   "nbconvert_exporter": "python",
   "pygments_lexer": "ipython3",
   "version": "3.11.3"
  }
 },
 "nbformat": 4,
 "nbformat_minor": 5
}
